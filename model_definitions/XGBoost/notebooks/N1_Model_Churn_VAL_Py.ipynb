{
 "cells": [
  {
   "cell_type": "markdown",
   "id": "2f0df8dc",
   "metadata": {},
   "source": [
    "# Modelo de Predicción de Churn en Telecomunicaciones\n",
    "## Step 1: Business Understanding\n",
    "Este dataset contiene información recolectada de clientes de una empresa de Telecomunicaciones. La información se encuentra disponible públicamente en el repositorio de Kaggle: https://www.kaggle.com/code/ronitf/churn-prediction-telecom/data "
   ]
  },
  {
   "cell_type": "markdown",
   "id": "296a9e92",
   "metadata": {},
   "source": [
    "### Cargamos las librerías"
   ]
  },
  {
   "cell_type": "code",
   "execution_count": null,
   "id": "ebb8b31a",
   "metadata": {},
   "outputs": [],
   "source": [
    "from teradataml import create_context, DataFrame, get_context, copy_to_sql, in_schema, remove_context\n",
    "from teradataml.dataframe.sql_functions import case\n",
    "import pandas as pd\n",
    "import numpy as np\n",
    "import getpass as gp\n",
    "import matplotlib.pyplot as plt\n",
    "import seaborn as sns\n",
    "\n",
    "from teradataml import *\n",
    "from teradataml.analytics.valib import *\n",
    "configure.val_install_location = \"TRNG_XSP\""
   ]
  },
  {
   "cell_type": "markdown",
   "id": "e8294e51",
   "metadata": {},
   "source": [
    "### Creamos la conexión con Vantage"
   ]
  },
  {
   "cell_type": "code",
   "execution_count": null,
   "id": "9613a966",
   "metadata": {},
   "outputs": [],
   "source": [
    "# Establish connection to Teradata Vantage server (uses the Teradata SQL Driver for Python). \n",
    "td_context = create_context(host=\"tdprd.td.teradata.com\", username=\"lc250058\", password=gp.getpass(prompt='Password:'), logmech=\"LDAP\")"
   ]
  },
  {
   "cell_type": "markdown",
   "id": "aea3d4fb",
   "metadata": {},
   "source": [
    "### Creamos el DataFrame y traemos la cabecera"
   ]
  },
  {
   "cell_type": "code",
   "execution_count": null,
   "id": "f295088b",
   "metadata": {},
   "outputs": [],
   "source": [
    "tdChurn = DataFrame(in_schema(\"TRNG_Data_Science\", \"churn\"))\n",
    "tdChurn.head(10)"
   ]
  },
  {
   "cell_type": "code",
   "execution_count": null,
   "id": "91937162-c74c-4de8-9eb4-3e6b982812c8",
   "metadata": {},
   "outputs": [],
   "source": [
    "tdChurn.head(10).show_query()"
   ]
  },
  {
   "cell_type": "markdown",
   "id": "c66fc503",
   "metadata": {},
   "source": [
    "### Tamaño de la tabla"
   ]
  },
  {
   "cell_type": "code",
   "execution_count": null,
   "id": "6b47f7f8",
   "metadata": {},
   "outputs": [],
   "source": [
    "tdChurn.shape"
   ]
  },
  {
   "cell_type": "markdown",
   "id": "e6eeef20",
   "metadata": {},
   "source": [
    "## Step 2: Data Understanding\n",
    "### Exploración de Valores"
   ]
  },
  {
   "cell_type": "code",
   "execution_count": null,
   "id": "ef138a02",
   "metadata": {},
   "outputs": [],
   "source": [
    "explor = valib.Values(data=tdChurn, columns=\"all\")\n",
    "explor.result"
   ]
  },
  {
   "cell_type": "markdown",
   "id": "802777ef",
   "metadata": {},
   "source": [
    "### Explorando los Valores Atípicos (Outliers)"
   ]
  },
  {
   "cell_type": "code",
   "execution_count": null,
   "id": "aa5c52cf",
   "metadata": {},
   "outputs": [],
   "source": [
    "out = valib.Statistics(data=tdChurn, columns=[\"DayMins\", \"DayCalls\", \"DayCharge\", \"AccountLength\"], extended_options=\"quantiles\")\n",
    "out.result"
   ]
  },
  {
   "cell_type": "markdown",
   "id": "1ec12eb2",
   "metadata": {},
   "source": [
    "### Distribución de Frecuencias por la Antiguedad"
   ]
  },
  {
   "cell_type": "code",
   "execution_count": null,
   "id": "b8983bd2",
   "metadata": {},
   "outputs": [],
   "source": [
    "tdAntig = valib.Frequency(data=tdChurn, columns=\"AccountLength\")\n",
    "tdAntig.result.to_pandas().sort_values(['xval'])"
   ]
  },
  {
   "cell_type": "code",
   "execution_count": null,
   "id": "1ea2b35d-b8ce-4c70-a488-3aefb55a880f",
   "metadata": {},
   "outputs": [],
   "source": [
    "tdCustSC = valib.Frequency(data=tdChurn, columns=\"CustServCalls\")\n",
    "tdCustFr = tdCustSC.result.to_pandas().sort_values(['xval'])\n",
    "tdCustFr"
   ]
  },
  {
   "cell_type": "code",
   "execution_count": null,
   "id": "2ad6cad6",
   "metadata": {},
   "outputs": [],
   "source": [
    "sizes=tdCustFr['xcnt']\n",
    "labels=tdCustFr.reset_index(level=[0,1]).index\n",
    "\n",
    "fig = plt.figure()\n",
    "ax = fig.add_axes([0,0,1,1])\n",
    "ax.bar(labels, sizes)\n",
    "ax.set(title='CustServCalls')\n",
    "plt.show()"
   ]
  },
  {
   "cell_type": "markdown",
   "id": "7b407250",
   "metadata": {},
   "source": [
    "## Step 3: Data Preparation\n",
    "### Transformacion de Variables e Imputacion"
   ]
  },
  {
   "cell_type": "code",
   "execution_count": null,
   "id": "333457d9",
   "metadata": {},
   "outputs": [],
   "source": [
    "ndf = DataFrame.from_query(\"select id, area, habitaciones, CASE WHEN antiguedad_original='Entre 10 y 20 años' THEN 1 ELSE 0 END AS ant10_20, CASE WHEN antiguedad_original='Entre 0 y 5 años' THEN 1 ELSE 0 END AS ant0_5, CASE WHEN antiguedad_original='Entre 5 y 10 años' THEN 1 ELSE 0 END AS ant5_10, CASE WHEN antiguedad_original='Más de 20 años' THEN 1 ELSE 0 END AS ant20_mas, CASE WHEN antiguedad_original='1 a 8 años' THEN 1 ELSE 0 END AS ant1_8, CASE WHEN antiguedad_original='16 a 30 años' THEN 1 ELSE 0 END AS ant16_30, CASE WHEN antiguedad_original='9 a 15 años' THEN 1 ELSE 0 END AS ant9_15, CASE WHEN antiguedad_original='Más de 30 años' THEN 1 ELSE 0 END AS ant30_mas, CASE WHEN antiguedad_original='Menos de 1 año' THEN 1 ELSE 0 END AS ant1_menos, banos, garajes, estrato, valor, SAMPLEID as sid FROM ADLSLSAMER_MS_AZ.Precio_Casas_Col WHERE area between 20 and 2000 and valor between 50000000 and 5000000000 SAMPLE RANDOMIZED ALLOCATION 0.7, 0.3\", True, \"id\")"
   ]
  },
  {
   "cell_type": "code",
   "execution_count": null,
   "id": "bb4dcaf6",
   "metadata": {},
   "outputs": [],
   "source": [
    "ndf.head()"
   ]
  },
  {
   "cell_type": "code",
   "execution_count": null,
   "id": "726751c4",
   "metadata": {},
   "outputs": [],
   "source": [
    "fn_1 = FillNa(style=\"literal\", value=0, columns=\"garajes\")\n",
    "fn_2 = FillNa(style=\"literal\", value=0, columns=\"estrato\")\n",
    "fn_3 = FillNa(style=\"literal\", value=0, columns=\"banos\")"
   ]
  },
  {
   "cell_type": "code",
   "execution_count": null,
   "id": "9976bdde",
   "metadata": {},
   "outputs": [],
   "source": [
    "derive = Derive(formula=\"sqrt(x)\", columns=\"valor\", out_column=\"rvalor\")"
   ]
  },
  {
   "cell_type": "code",
   "execution_count": null,
   "id": "78198a83",
   "metadata": {},
   "outputs": [],
   "source": [
    "retain = Retain(columns=[\"habitaciones\", \"area\",\"ant0_5\",\"ant5_10\",\"ant10_20\",\"ant20_mas\",\"ant1_menos\",\"ant1_8\",\"ant9_15\",\"ant16_30\",\"ant30_mas\",\"sid\"])"
   ]
  },
  {
   "cell_type": "code",
   "execution_count": null,
   "id": "71fe2785",
   "metadata": {},
   "outputs": [],
   "source": [
    "matriz = valib.Transform(data=ndf, fillna=[fn_1, fn_2, fn_3], derive=derive, retain=retain, key_columns=\"id\", index_columns=\"id\")\n",
    "matriz.result.head().to_pandas()"
   ]
  },
  {
   "cell_type": "markdown",
   "id": "dfd39857",
   "metadata": {},
   "source": [
    "### Matriz de Correlaciones para las variables numéricas"
   ]
  },
  {
   "cell_type": "code",
   "execution_count": null,
   "id": "e0c0fe23",
   "metadata": {},
   "outputs": [],
   "source": [
    "Cor_Mat = valib.Matrix(data=tdChurn, columns='all', exclude_columns=[\"AreaCode\",\"State\",\"Churn\",\"Phone\"], type=\"COR\")\n",
    "# Print the results.\n",
    "corr = Cor_Mat.result.to_pandas().sort_values(['rownum'])\n",
    "corr"
   ]
  },
  {
   "cell_type": "code",
   "execution_count": null,
   "id": "f3a90df0-d4d7-48c8-9d07-cf1cd90ff380",
   "metadata": {},
   "outputs": [],
   "source": [
    "mask = np.array(corr)\n",
    "mask[np.tril_indices_from(mask)] = False\n",
    "fig = plt.gcf()\n",
    "fig.set_size_inches(30,12)\n",
    "sns.heatmap(data=corr,mask=mask,square=True,annot=True,cbar=True)"
   ]
  },
  {
   "cell_type": "markdown",
   "id": "89db7495",
   "metadata": {},
   "source": [
    "### División de Muestras Train y Evaluation"
   ]
  },
  {
   "cell_type": "code",
   "execution_count": null,
   "id": "4342323f",
   "metadata": {},
   "outputs": [],
   "source": [
    "tbl_train=matriz.result[matriz.result[\"sid\"]==1]\n",
    "tbl_test=matriz.result[matriz.result[\"sid\"]==2]"
   ]
  },
  {
   "cell_type": "markdown",
   "id": "291c2112",
   "metadata": {},
   "source": [
    "## Step 4: Modeling\n",
    "### Generación del Modelo de Estimación de Precios"
   ]
  },
  {
   "cell_type": "code",
   "execution_count": null,
   "id": "2df58ee7",
   "metadata": {},
   "outputs": [],
   "source": [
    "tdModel = valib.LinReg(data=tbl_train,\n",
    "                       columns=\"all\",\n",
    "                       exclude_columns=[\"id\", \"sid\"],\n",
    "                       stepwise=True,\n",
    "                       response_column=\"rvalor\")\n",
    "tdModel.model.to_pandas()"
   ]
  },
  {
   "cell_type": "markdown",
   "id": "549242cf",
   "metadata": {},
   "source": [
    "## Step 5: Evaluation"
   ]
  },
  {
   "cell_type": "code",
   "execution_count": null,
   "id": "e6b86f3e",
   "metadata": {},
   "outputs": [],
   "source": [
    "tdModel.statistical_measures.to_pandas()"
   ]
  },
  {
   "cell_type": "code",
   "execution_count": null,
   "id": "1f24b022",
   "metadata": {},
   "outputs": [],
   "source": [
    "valib.LinRegEvaluator(data=tbl_train, model=tdModel.model)"
   ]
  },
  {
   "cell_type": "code",
   "execution_count": null,
   "id": "6a31599e",
   "metadata": {},
   "outputs": [],
   "source": [
    "valib.LinRegEvaluator(data=tbl_test, model=tdModel.model)"
   ]
  },
  {
   "cell_type": "markdown",
   "id": "4fc141a3",
   "metadata": {},
   "source": [
    "### Step 6: Deployment"
   ]
  },
  {
   "cell_type": "code",
   "execution_count": null,
   "id": "5361a78f",
   "metadata": {},
   "outputs": [],
   "source": [
    "tdScore = valib.LinRegPredict(data=tbl_test, model=tdModel.model, response_column=\"rvalue_estim\")\n",
    "tdScore.result.head().to_pandas()"
   ]
  },
  {
   "cell_type": "code",
   "execution_count": null,
   "id": "b4907db3",
   "metadata": {},
   "outputs": [],
   "source": [
    "derive = Derive(formula=\"x*x\", columns=\"rvalue_estim\", out_column=\"valor_estim\")\n",
    "ScoreFinal = valib.Transform(data=tdScore.result, derive=derive, key_columns=\"id\", index_columns=\"id\")"
   ]
  },
  {
   "cell_type": "code",
   "execution_count": null,
   "id": "8dda56c5",
   "metadata": {},
   "outputs": [],
   "source": [
    "ScoreFinal.result.to_sql(schema_name=\"ADLSLSAMER_MS_AZ\", table_name=\"Precio_Score\")"
   ]
  },
  {
   "cell_type": "code",
   "execution_count": null,
   "id": "513b6192",
   "metadata": {},
   "outputs": [],
   "source": [
    "remove_context()"
   ]
  },
  {
   "cell_type": "markdown",
   "id": "857be636",
   "metadata": {},
   "source": [
    "Copyright 2022. Elaborado por Luis Cajachahua bajo licencia MIT"
   ]
  }
 ],
 "metadata": {
  "kernelspec": {
   "display_name": "Python 3 (ipykernel)",
   "language": "python",
   "name": "python3"
  },
  "language_info": {
   "codemirror_mode": {
    "name": "ipython",
    "version": 3
   },
   "file_extension": ".py",
   "mimetype": "text/x-python",
   "name": "python",
   "nbconvert_exporter": "python",
   "pygments_lexer": "ipython3",
   "version": "3.9.7"
  }
 },
 "nbformat": 4,
 "nbformat_minor": 5
}

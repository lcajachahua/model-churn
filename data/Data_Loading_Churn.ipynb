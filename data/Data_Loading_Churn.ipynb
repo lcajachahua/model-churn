{
 "cells": [
  {
   "cell_type": "markdown",
   "id": "3bac3924-4f04-46d8-9626-68b2e9966e96",
   "metadata": {},
   "source": [
    "# Data Loading\n",
    "## Creamos las tablas y cargamos los datos necesarios para implementar ModelOps"
   ]
  },
  {
   "cell_type": "code",
   "execution_count": null,
   "id": "a1ab2efd-d316-48a3-a3e8-66b64b4f985f",
   "metadata": {},
   "outputs": [],
   "source": [
    "%connect local"
   ]
  },
  {
   "cell_type": "code",
   "execution_count": null,
   "id": "3cae7b33-d674-495a-b95b-5dd7ddd22753",
   "metadata": {},
   "outputs": [],
   "source": [
    "CREATE MULTISET TABLE churn_vars\n",
    "(phone VARCHAR(9),\n",
    "vmailmessage INTEGER,\n",
    "daymins float,\n",
    "evemins float,\n",
    "nightmins float,\n",
    "intlmins float,\n",
    "custservcalls INTEGER, \n",
    "daycalls INTEGER,\n",
    "evecalls INTEGER,\n",
    "nightcalls INTEGER,\n",
    "intlcalls INTEGER,\n",
    "accountlength INTEGER,\n",
    "intlplan INTEGER)\n",
    "PRIMARY INDEX (phone);"
   ]
  },
  {
   "cell_type": "code",
   "execution_count": null,
   "id": "d9755c49-163e-4803-8392-9d10a1e79284",
   "metadata": {},
   "outputs": [],
   "source": [
    "%dataload DATABASE=demo_user, TABLE=churn_vars, skiprows=1, FILEPATH=model-churn/data/churn_vars.csv"
   ]
  },
  {
   "cell_type": "code",
   "execution_count": null,
   "id": "bfa887fa-fc7c-4f25-871f-caed22641fef",
   "metadata": {},
   "outputs": [],
   "source": [
    "CREATE MULTISET TABLE churn_tar\n",
    "(phone VARCHAR(9),\n",
    "churn INTEGER)\n",
    "PRIMARY INDEX (phone);"
   ]
  },
  {
   "cell_type": "code",
   "execution_count": null,
   "id": "1ff9849a-f7c8-49a2-81eb-8f52b1eea1fa",
   "metadata": {},
   "outputs": [],
   "source": [
    "%dataload DATABASE=demo_user, TABLE=churn_tar, skiprows=1, FILEPATH=model-churn/data/churn_tar.csv"
   ]
  },
  {
   "cell_type": "code",
   "execution_count": null,
   "id": "d8be9819-5c01-4b8c-9c33-1ec3aa641170",
   "metadata": {},
   "outputs": [],
   "source": [
    "CREATE MULTISET TABLE churn_new\n",
    "(phone VARCHAR(9),\n",
    "vmailmessage INTEGER,\n",
    "daymins float,\n",
    "evemins float,\n",
    "nightmins float,\n",
    "intlmins float,\n",
    "custservcalls INTEGER, \n",
    "daycalls INTEGER,\n",
    "evecalls INTEGER,\n",
    "nightcalls INTEGER,\n",
    "intlcalls INTEGER,\n",
    "accountlength INTEGER,\n",
    "intlplan INTEGER)\n",
    "PRIMARY INDEX (phone);"
   ]
  },
  {
   "cell_type": "code",
   "execution_count": null,
   "id": "f3e34809-bb98-4c6c-b2cf-b21e63b3a71f",
   "metadata": {},
   "outputs": [],
   "source": [
    "%dataload DATABASE=demo_user, TABLE=churn_new, skiprows=1, FILEPATH=model-churn/data/churn_new.csv"
   ]
  },
  {
   "cell_type": "code",
   "execution_count": null,
   "id": "7574a9ee-456c-47c2-8026-9476abc6295a",
   "metadata": {},
   "outputs": [],
   "source": [
    "CREATE SET TABLE churn_feature_metadata (\n",
    "    column_name VARCHAR(1024),\n",
    "    column_type VARCHAR(1024),\n",
    "    stats VARCHAR(1024),\n",
    "    update_ts VARCHAR(1024))\n",
    "    PRIMARY INDEX ( column_name );"
   ]
  },
  {
   "cell_type": "code",
   "execution_count": null,
   "id": "8e3289f5-b99f-4f70-9ffc-3ed3c1c12f90",
   "metadata": {},
   "outputs": [],
   "source": [
    "%dataload DATABASE=demo_user, TABLE=churn_feature_metadata, skiprows=1, FILEPATH=model-churn/data/churn_feature_metadata.csv"
   ]
  },
  {
   "cell_type": "code",
   "execution_count": null,
   "id": "dd5ce8bf-bd6b-403f-8a25-9059f713aa06",
   "metadata": {},
   "outputs": [],
   "source": [
    "CREATE MULTISET TABLE churn_predictions (\n",
    "    job_id VARCHAR(255),\n",
    "    phone VARCHAR(9),\n",
    "    churn INTEGER,\n",
    "    json_report CLOB(1048544000))\n",
    "    PRIMARY INDEX ( job_id );"
   ]
  },
  {
   "cell_type": "code",
   "execution_count": null,
   "id": "7744ddfe-ebbf-406c-9990-f720c83d64c5",
   "metadata": {},
   "outputs": [],
   "source": [
    "CREATE MULTISET TABLE churn\n",
    "(VMailMessage INTEGER,\n",
    "DayMins DECIMAL(10,3),\n",
    "EveMins DECIMAL(10,3),\n",
    "NightMins DECIMAL(10,3),\n",
    "IntlMins DECIMAL(10,3),\n",
    "CustServCalls INTEGER, \n",
    "DayCalls INTEGER,\n",
    "DayCharge DECIMAL(10,3),\n",
    "EveCalls INTEGER,\n",
    "EveCharge DECIMAL(10,3),\n",
    "NightCalls INTEGER,\n",
    "NightCharge DECIMAL(10,3),\n",
    "IntlCalls INTEGER,\n",
    "IntlCharge DECIMAL(10,3),\n",
    "AreaCode VARCHAR(3),\n",
    "Phone VARCHAR(9),\n",
    "AccountLength INTEGER,\n",
    "Churn VARCHAR(1),\n",
    "IntlPlan INTEGER,\n",
    "VMailPlan INTEGER,\n",
    "State VARCHAR(3))\n",
    "PRIMARY INDEX (Phone);"
   ]
  },
  {
   "cell_type": "code",
   "execution_count": null,
   "id": "792c3496-5824-4bfd-aa13-0dcc2cb4c002",
   "metadata": {},
   "outputs": [],
   "source": [
    "%dataload DATABASE=demo_user, TABLE=churn, skiprows=1, FILEPATH=model-churn/data/churn.csv"
   ]
  },
  {
   "cell_type": "code",
   "execution_count": null,
   "id": "9a7a4ea4-25d9-4840-908e-ec6b60b800c0",
   "metadata": {},
   "outputs": [],
   "source": [
    "CREATE MULTISET TABLE churn_scoring\n",
    "(VMailMessage INTEGER,\n",
    "DayMins DECIMAL(10,3),\n",
    "EveMins DECIMAL(10,3),\n",
    "NightMins DECIMAL(10,3),\n",
    "IntlMins DECIMAL(10,3),\n",
    "CustServCalls INTEGER, \n",
    "DayCalls INTEGER,\n",
    "DayCharge DECIMAL(10,3),\n",
    "EveCalls INTEGER,\n",
    "EveCharge DECIMAL(10,3),\n",
    "NightCalls INTEGER,\n",
    "NightCharge DECIMAL(10,3),\n",
    "IntlCalls INTEGER,\n",
    "IntlCharge DECIMAL(10,3),\n",
    "AreaCode VARCHAR(3),\n",
    "Phone VARCHAR(9),\n",
    "AccountLength INTEGER,\n",
    "Churn VARCHAR(1),\n",
    "IntlPlan INTEGER,\n",
    "VMailPlan INTEGER,\n",
    "State VARCHAR(3))\n",
    "PRIMARY INDEX (Phone);"
   ]
  },
  {
   "cell_type": "code",
   "execution_count": null,
   "id": "fb5434fd-c366-405f-9d95-f50fa8d23d3b",
   "metadata": {},
   "outputs": [],
   "source": [
    "%dataload DATABASE=demo_user, TABLE=churn_scoring, skiprows=1, FILEPATH=model-churn/data/churn_scoring.csv"
   ]
  },
  {
   "cell_type": "markdown",
   "id": "7d782e76-c479-43af-b273-212be71f9111",
   "metadata": {},
   "source": [
    "# Limpiando la BD (Opcional)\n",
    "Cuando finalice el proceso, se pueden eliminar las tablas creadas"
   ]
  },
  {
   "cell_type": "code",
   "execution_count": null,
   "id": "29b6acc9-c2ca-4f24-8781-b89a164f56ee",
   "metadata": {},
   "outputs": [],
   "source": [
    "DROP TABLE churn_vars;"
   ]
  },
  {
   "cell_type": "code",
   "execution_count": null,
   "id": "015a0af4-5750-49ad-bc83-83212e216fa7",
   "metadata": {},
   "outputs": [],
   "source": [
    "DROP TABLE churn_tar;"
   ]
  },
  {
   "cell_type": "code",
   "execution_count": null,
   "id": "2e675552-d2ea-44ee-b2f5-669d0ec2a863",
   "metadata": {},
   "outputs": [],
   "source": [
    "DROP TABLE churn_new;"
   ]
  },
  {
   "cell_type": "code",
   "execution_count": null,
   "id": "d513c40e-8bd5-414e-84da-f1e09b4f44bf",
   "metadata": {},
   "outputs": [],
   "source": [
    "DROP TABLE churn_feature_metadata;"
   ]
  },
  {
   "cell_type": "code",
   "execution_count": null,
   "id": "f8f6e751-10d2-437c-bd8f-c79e4b974f5c",
   "metadata": {},
   "outputs": [],
   "source": [
    "DROP TABLE churn_predictions;"
   ]
  },
  {
   "cell_type": "markdown",
   "id": "04837c82-ca31-4a7a-b4df-e1318163abff",
   "metadata": {},
   "source": [
    "Copyright 2023. Elaborado por Luis Cajachahua bajo licencia MIT"
   ]
  }
 ],
 "metadata": {
  "kernelspec": {
   "display_name": "Teradata SQL",
   "language": "Teradata SQL",
   "name": "teradatasql"
  },
  "language_info": {
   "codemirror_mode": "Teradata SQL",
   "file_extension": ".tdrs",
   "mimetype": "application/vnd.teradata.resultset",
   "name": "Teradata SQL",
   "nbconvert_exporter": "",
   "pygments_lexer": "",
   "version": "16.20"
  }
 },
 "nbformat": 4,
 "nbformat_minor": 5
}
